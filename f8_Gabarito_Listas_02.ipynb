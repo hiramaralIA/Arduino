{
  "cells": [
    {
      "cell_type": "markdown",
      "metadata": {
        "id": "view-in-github",
        "colab_type": "text"
      },
      "source": [
        "<a href=\"https://colab.research.google.com/github/hiramaralIA/Arduino/blob/master/f8_Gabarito_Listas_02.ipynb\" target=\"_parent\"><img src=\"https://colab.research.google.com/assets/colab-badge.svg\" alt=\"Open In Colab\"/></a>"
      ]
    },
    {
      "cell_type": "markdown",
      "metadata": {
        "id": "MFfely22QBf-"
      },
      "source": [
        "# Listas em Python\n",
        "\n",
        "## Estrutura:\n",
        "\n",
        "lista = [valor, valor, valor, valor, ...]\n",
        "\n",
        "lista[i] -> é o valor de índice i da lista. <br>\n",
        "Obs: Lembre que no python o índice começa em 0, então o primeiro item de uma lista é o item lista[0]\n",
        "\n",
        "Para substituir um valor de uma lista você pode fazer:<br>\n",
        "lista[i] = novo_valor\n",
        "\n",
        "Listas de Produtos de uma Loja:"
      ]
    },
    {
      "cell_type": "code",
      "execution_count": null,
      "metadata": {
        "id": "aasovaBWQBgB",
        "outputId": "f5854e0e-f9f4-4ccc-bed8-8d04c40291b8"
      },
      "outputs": [
        {
          "name": "stdout",
          "output_type": "stream",
          "text": [
            "celular\n"
          ]
        }
      ],
      "source": [
        "produtos = ['tv', 'celular', 'mouse', 'teclado', 'tablet']\n",
        "print(produtos[1])"
      ]
    },
    {
      "cell_type": "markdown",
      "metadata": {
        "id": "MPNb1RjnQBgD"
      },
      "source": [
        "Lista de Unidades Vendidas de cada Produto da Loja"
      ]
    },
    {
      "cell_type": "code",
      "execution_count": null,
      "metadata": {
        "id": "DYPPtgT-QBgE",
        "outputId": "01ac3743-69f9-4621-dbcd-fa1a4f8db5b1"
      },
      "outputs": [
        {
          "name": "stdout",
          "output_type": "stream",
          "text": [
            "1500\n"
          ]
        }
      ],
      "source": [
        "vendas = [1000, 1500, 350, 270, 900]\n",
        "print(vendas[1])"
      ]
    },
    {
      "cell_type": "markdown",
      "metadata": {
        "id": "uAgQ1zOWQBgE"
      },
      "source": [
        "### Nesse caso, as listas funcionam da seguinte forma:"
      ]
    },
    {
      "cell_type": "raw",
      "metadata": {
        "id": "_WAt7uZtQBgF"
      },
      "source": [
        "produtos = ['tv', 'celular', 'mouse', 'teclado', 'tablet']\n",
        "              0 ,      1   ,    2   ,     3    ,     4   \n",
        "vendas = [  1000,    1500  ,   350  ,    270   ,    900  ]"
      ]
    },
    {
      "cell_type": "code",
      "execution_count": null,
      "metadata": {
        "id": "IsB6aqAVQBgF",
        "outputId": "c152cb18-f100-4c2a-8077-7ab53fd5c666"
      },
      "outputs": [
        {
          "name": "stdout",
          "output_type": "stream",
          "text": [
            "Vendas do produto teclado foram de 300 unidades\n"
          ]
        }
      ],
      "source": [
        "vendas[3] = 300\n",
        "print('Vendas do produto {} foram de {} unidades'.format(produtos[3], vendas[3]))"
      ]
    },
    {
      "cell_type": "code",
      "execution_count": null,
      "metadata": {
        "id": "UT7IZDfTQBgG",
        "outputId": "9316493c-7470-4d79-89ed-9f88db64ffd4"
      },
      "outputs": [
        {
          "name": "stdout",
          "output_type": "stream",
          "text": [
            "lara@gmaal.com\n"
          ]
        }
      ],
      "source": [
        "texto = 'lira@gmail.com'\n",
        "texto = texto.replace('i', 'a')\n",
        "print(texto)"
      ]
    }
  ],
  "metadata": {
    "kernelspec": {
      "display_name": "Python 3",
      "language": "python",
      "name": "python3"
    },
    "language_info": {
      "codemirror_mode": {
        "name": "ipython",
        "version": 3
      },
      "file_extension": ".py",
      "mimetype": "text/x-python",
      "name": "python",
      "nbconvert_exporter": "python",
      "pygments_lexer": "ipython3",
      "version": "3.8.3"
    },
    "colab": {
      "name": "Gabarito - Listas 02.ipynb",
      "provenance": [],
      "include_colab_link": true
    }
  },
  "nbformat": 4,
  "nbformat_minor": 0
}