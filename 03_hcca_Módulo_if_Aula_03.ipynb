{
  "cells": [
    {
      "cell_type": "markdown",
      "metadata": {
        "id": "view-in-github",
        "colab_type": "text"
      },
      "source": [
        "<a href=\"https://colab.research.google.com/github/hiramaralIA/Arduino/blob/master/03_hcca_M%C3%B3dulo_if_Aula_03.ipynb\" target=\"_parent\"><img src=\"https://colab.research.google.com/assets/colab-badge.svg\" alt=\"Open In Colab\"/></a>"
      ]
    },
    {
      "cell_type": "markdown",
      "metadata": {
        "id": "rbkdr0e4IBnb"
      },
      "source": [
        "# elif\n",
        "\n",
        "E se temos mais do que um caso de sim e não?\n",
        "\n",
        "E se tivermos 3 casos?\n",
        "\n",
        "Usamos o elif da seguinte forma:"
      ]
    },
    {
      "cell_type": "raw",
      "metadata": {
        "id": "aaEczNIKIBni"
      },
      "source": [
        "if condição:\n",
        "    o que fazer se a condição 1 for verdadeira\n",
        "elif condição_2:\n",
        "    o que fazer se a condição 1 for falsa e a condição 2 for verdadeira\n",
        "else:\n",
        "    o que fazer se a condição 1 e a condição 2 forem falsas"
      ]
    },
    {
      "cell_type": "markdown",
      "metadata": {
        "id": "tCd5T81VIBnj"
      },
      "source": [
        "### Exemplo:\n",
        "\n",
        "Vamos criar um programa para analisar o bônus dos funcionários de uma empresa (pode parecer \"simples\", mas uma empresa como a Amazon tem 900.000 funcionários)\n",
        "\n",
        "Para os cargos de vendedores, a regra do bônus é de acordo com a meta de vendas da pessoa:\n",
        "\n",
        "Se ela vendeu abaixo da meta dela, ela não ganha bônus.\n",
        "\n",
        "Se ela vendeu acima da meta dela, ela ganha como bônus 3% do valor que ela vendeu.\n",
        "\n",
        "Se ela vendeu mais do que o dobro da meta dela, ela ganha como bônus 7% do valor que ela vendeu.\n",
        "\n",
        "Vamos criar um programa para avaliar uma pessoa que tinha como meta de vendas 20.000 reais e calcular o bônus dela de acordo com o valor de vendas que ela tiver."
      ]
    },
    {
      "cell_type": "code",
      "execution_count": null,
      "metadata": {
        "id": "YV4ZEb5DIBnl",
        "outputId": "5cc55370-f452-440c-8647-08f5ccdf68ec"
      },
      "outputs": [
        {
          "name": "stdout",
          "output_type": "stream",
          "text": [
            "Não ganhou bônus\n"
          ]
        }
      ],
      "source": [
        "meta = 20000\n",
        "vendas = 15000\n",
        "\n",
        "if vendas < meta:\n",
        "    print('Não ganhou bônus')\n",
        "elif vendas > (meta * 2):\n",
        "    bonus = 0.07 * vendas\n",
        "    print('Ganhou {} de bônus'.format(bonus))\n",
        "else:\n",
        "    bonus = 0.03 * vendas\n",
        "    print('Ganhou {} de bônus'.format(bonus))"
      ]
    }
  ],
  "metadata": {
    "kernelspec": {
      "display_name": "Python 3",
      "language": "python",
      "name": "python3"
    },
    "language_info": {
      "codemirror_mode": {
        "name": "ipython",
        "version": 3
      },
      "file_extension": ".py",
      "mimetype": "text/x-python",
      "name": "python",
      "nbconvert_exporter": "python",
      "pygments_lexer": "ipython3",
      "version": "3.8.3"
    },
    "colab": {
      "name": "Gabarito - Módulo if - Aula 03.ipynb",
      "provenance": [],
      "include_colab_link": true
    }
  },
  "nbformat": 4,
  "nbformat_minor": 0
}